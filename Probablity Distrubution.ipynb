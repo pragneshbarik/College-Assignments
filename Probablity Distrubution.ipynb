{
 "cells": [
  {
   "cell_type": "markdown",
   "id": "f1f010b5",
   "metadata": {},
   "source": [
    "<h1>Experiment 2 : Probablity Distrubution</h1>\n",
    "\n",
    "<p>Pragnesh Barik - U21ME021</p>"
   ]
  },
  {
   "cell_type": "code",
   "execution_count": null,
   "id": "ed2a5b10",
   "metadata": {},
   "outputs": [],
   "source": [
    "import random\n",
    "import math\n",
    "import numpy as np\n",
    "import pandas as pd\n",
    "import scipy.special\n",
    "import collections\n",
    "import matplotlib.pyplot as plt\n",
    "from matplotlib.pyplot import figure"
   ]
  },
  {
   "cell_type": "code",
   "execution_count": null,
   "id": "caa83769",
   "metadata": {},
   "outputs": [],
   "source": [
    "def NP_r(counter, n, trials) :\n",
    "    count_dict=dict(sorted(counter.items()))\n",
    "    r = np.array(list(count_dict.keys()))\n",
    "    n_r = n-r\n",
    "    ret_list = choose(n, r)\n",
    "    return [n_r, trials*ret_list[0]*math.pow(2, -n), list(count_dict.values()), ret_list[2], ret_list[3], r]\n",
    "\n",
    "def choose(n, r) :\n",
    "    n_r = n-r\n",
    "    fact_n = scipy.special.factorial(n)\n",
    "    fact_n_r = scipy.special.factorial(n-r)\n",
    "    fact_r=scipy.special.factorial(r)\n",
    "    return fact_n/(fact_n_r * fact_r), fact_n, fact_r, fact_n_r"
   ]
  },
  {
   "cell_type": "code",
   "execution_count": null,
   "id": "6912c99c",
   "metadata": {},
   "outputs": [],
   "source": [
    "trials=100\n",
    "coins=20"
   ]
  },
  {
   "cell_type": "code",
   "execution_count": null,
   "id": "cbe46a3f",
   "metadata": {},
   "outputs": [],
   "source": [
    "sample_space =[]\n",
    "sample_space_sum = []\n",
    "for i in range(trials) :\n",
    "    sample_space.append(np.random.randint(2, size=coins+1))\n",
    "for i in range(trials) :\n",
    "    sample_space_sum.append(sample_space[i].sum())\n",
    "sample_space_sum  = np.array(sample_space_sum)\n",
    "sample_space_count = collections.Counter(sample_space_sum)\n",
    "NP_r_dict = NP_r(sample_space_count, coins, trials)\n",
    "plt.figure(figsize=(20,10), dpi=100)\n",
    "plt.title(\"Comparision of F(r) and NP(r)\")\n",
    "plt.bar(sample_space_count.keys(), sample_space_count.values(), label = \"F(r)\")\n",
    "plt.plot(NP_r_dict[0]+0.5, NP_r_dict[1], 'g--', label = \"NP(r)\")\n",
    "plt.xticks(np.arange(coins+1))\n",
    "plt.legend()\n",
    "plt.show()"
   ]
  },
  {
   "cell_type": "code",
   "execution_count": null,
   "id": "e23f97de",
   "metadata": {},
   "outputs": [],
   "source": [
    "NP_r_dict[0], NP_r_dict[len(NP_r_dict)-1] = NP_r_dict[len(NP_r_dict)-1], NP_r_dict[0]\n",
    "NP_r_dict[2], NP_r_dict[1] = NP_r_dict[1], NP_r_dict[2]\n",
    "NP_r_dict[3], NP_r_dict[2] = NP_r_dict[2], NP_r_dict[3]\n",
    "NP_r_dict[5], NP_r_dict[3] = NP_r_dict[3], NP_r_dict[5]"
   ]
  },
  {
   "cell_type": "code",
   "execution_count": null,
   "id": "fdda02fb",
   "metadata": {
    "scrolled": false
   },
   "outputs": [],
   "source": [
    "fields = ['#Heads Up (r)', 'Frequency F(r)', 'r!', '#Tails up (n-r)', '(n-r)!', 'NP(r)']\n",
    "pd.DataFrame(np.transpose(NP_r_dict), columns = fields)"
   ]
  },
  {
   "cell_type": "code",
   "execution_count": null,
   "id": "5c8808b5",
   "metadata": {},
   "outputs": [],
   "source": []
  }
 ],
 "metadata": {
  "kernelspec": {
   "display_name": "Python 3 (ipykernel)",
   "language": "python",
   "name": "python3"
  },
  "language_info": {
   "codemirror_mode": {
    "name": "ipython",
    "version": 3
   },
   "file_extension": ".py",
   "mimetype": "text/x-python",
   "name": "python",
   "nbconvert_exporter": "python",
   "pygments_lexer": "ipython3",
   "version": "3.9.7"
  }
 },
 "nbformat": 4,
 "nbformat_minor": 5
}
